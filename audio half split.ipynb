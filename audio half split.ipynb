{
 "cells": [
  {
   "cell_type": "code",
   "execution_count": null,
   "id": "98dc3160",
   "metadata": {
    "scrolled": false
   },
   "outputs": [],
   "source": [
    "!pip install pydub"
   ]
  },
  {
   "cell_type": "code",
   "execution_count": null,
   "id": "576c722c",
   "metadata": {},
   "outputs": [],
   "source": [
    "!pip install librosa"
   ]
  },
  {
   "cell_type": "code",
   "execution_count": null,
   "id": "9cabd8d1",
   "metadata": {
    "scrolled": true
   },
   "outputs": [],
   "source": [
    "from pydub import AudioSegment"
   ]
  },
  {
   "cell_type": "code",
   "execution_count": null,
   "id": "c636da98",
   "metadata": {},
   "outputs": [],
   "source": [
    "import os"
   ]
  },
  {
   "cell_type": "code",
   "execution_count": null,
   "id": "4e3e8922",
   "metadata": {},
   "outputs": [],
   "source": [
    "os.listdir(r'C:\\Users\\Admin\\Desktop\\PD_VOICEFILES\\Sample voice PD and control 25 date 7 SEP 2022\\01 PD\\126631\\2022-05-10 13-18')"
   ]
  },
  {
   "cell_type": "code",
   "execution_count": null,
   "id": "1486353f",
   "metadata": {},
   "outputs": [],
   "source": [
    "song = AudioSegment.from_file(r'C:\\Users\\Admin\\Desktop\\Sample voice PD and control 25 date 7 SEP 2022\\Sample voice PD and control 25 date 7 SEP 2022\\02 Control\\panida\\2020-07-01 08_57\\VoiceRecordingV0\\Ahh1.m4a')"
   ]
  },
  {
   "cell_type": "code",
   "execution_count": null,
   "id": "eb982363",
   "metadata": {},
   "outputs": [],
   "source": [
    "duration = song.duration_seconds"
   ]
  },
  {
   "cell_type": "code",
   "execution_count": null,
   "id": "a7898cef",
   "metadata": {},
   "outputs": [],
   "source": [
    "duration*1000"
   ]
  },
  {
   "cell_type": "code",
   "execution_count": null,
   "id": "cc41cd78",
   "metadata": {},
   "outputs": [],
   "source": [
    "newAudio = song[:duration*500]"
   ]
  },
  {
   "cell_type": "code",
   "execution_count": null,
   "id": "d1c932d7",
   "metadata": {},
   "outputs": [],
   "source": [
    "newAudio"
   ]
  },
  {
   "cell_type": "code",
   "execution_count": null,
   "id": "0cc127ee",
   "metadata": {},
   "outputs": [],
   "source": [
    "song"
   ]
  },
  {
   "cell_type": "code",
   "execution_count": null,
   "id": "78fbec84",
   "metadata": {},
   "outputs": [],
   "source": [
    "song._data"
   ]
  },
  {
   "cell_type": "code",
   "execution_count": null,
   "id": "1fb26e5c",
   "metadata": {},
   "outputs": [],
   "source": [
    "def towav_20(directory):\n",
    "    for filename in os.listdir(directory):\n",
    "        PATH = os.path.join(directory, filename)\n",
    "        if os.path.isfile(PATH):\n",
    "            if PATH.endswith('.m4a'):\n",
    "                audio = AudioSegment.from_file(PATH)\n",
    "                newAudio = audio[:20000]\n",
    "                new_filename = 'half_' + filename\n",
    "                new_filename = new_filename.replace('m4a','wav')\n",
    "                out_path = os.path.join(directory,'New Folder',new_filename)\n",
    "                newAudio.export(out_path, format = \"wav\")\n",
    "                \n",
    "            elif PATH.endswith('.mp4'):\n",
    "                audio = AudioSegment.from_file(PATH)\n",
    "                newAudio = audio[:20000]\n",
    "                new_filename = 'half_' + filename\n",
    "                new_filename = new_filename.replace('mp4','wav')\n",
    "                out_path = os.path.join(directory,'New Folder',new_filename)\n",
    "                newAudio.export(out_path, format = \"wav\")\n",
    "                \n",
    "            elif PATH.endswith('.mp3'):\n",
    "                audio = AudioSegment.from_file(PATH)\n",
    "                newAudio = audio[:20000]\n",
    "                new_filename = 'half_' + filename\n",
    "                new_filename = new_filename.replace('mp3','wav')\n",
    "                out_path = os.path.join(directory,'New Folder',new_filename)\n",
    "                newAudio.export(out_path, format = \"wav\")"
   ]
  },
  {
   "cell_type": "code",
   "execution_count": null,
   "id": "6e6fa1c3",
   "metadata": {},
   "outputs": [],
   "source": [
    "def half(directory):\n",
    "    for filename in os.listdir(directory):\n",
    "        PATH = os.path.join(directory, filename)\n",
    "        if os.path.isfile(PATH):\n",
    "            if PATH.endswith('.m4a'):\n",
    "                audio = AudioSegment.from_file(PATH)\n",
    "                duration = audio.duration_seconds\n",
    "                newAudio = audio[:duration*500]\n",
    "                new_filename = 'half_' + filename\n",
    "                new_filename = new_filename.replace('m4a','wav')\n",
    "                out_path = os.path.join(directory,'New Folder',new_filename)\n",
    "                newAudio.export(out_path, format = \"wav\")\n",
    "                \n",
    "            elif PATH.endswith('.mp4'):\n",
    "                audio = AudioSegment.from_file(PATH)\n",
    "                duration = audio.duration_seconds\n",
    "                newAudio = audio[:duration*500]\n",
    "                new_filename = 'half_' + filename\n",
    "                new_filename = new_filename.replace('mp4','wav')\n",
    "                out_path = os.path.join(directory,'New Folder',new_filename)\n",
    "                newAudio.export(out_path, format = \"wav\")\n",
    "            \n",
    "            elif PATH.endswith('.wav'):\n",
    "                audio = AudioSegment.from_file(PATH)\n",
    "                duration = audio.duration_seconds\n",
    "                newAudio = audio[:duration*500]\n",
    "                new_filename = 'half_' + filename\n",
    "                out_path = os.path.join(directory,'New Folder',new_filename)\n",
    "                newAudio.export(out_path, format = \"wav\")                \n",
    "            \n",
    "def write(directory):\n",
    "    for folder in os.listdir(directory):\n",
    "        PATH = os.path.join(directory, folder)\n",
    "        half(PATH)"
   ]
  },
  {
   "cell_type": "code",
   "execution_count": null,
   "id": "881a41e7",
   "metadata": {},
   "outputs": [],
   "source": [
    "write(r'C:\\Users\\Admin\\Desktop\\Dataset1_half')"
   ]
  },
  {
   "cell_type": "code",
   "execution_count": null,
   "id": "f26f61ed",
   "metadata": {},
   "outputs": [],
   "source": [
    "write(r'C:\\Users\\Admin\\Desktop\\Dataset2_half')"
   ]
  },
  {
   "cell_type": "code",
   "execution_count": null,
   "id": "59478b38",
   "metadata": {},
   "outputs": [],
   "source": [
    "towav_20(r'C:\\Users\\Admin\\Desktop\\mobile_dataset\\HC_mobile')\n",
    "towav_20(r'C:\\Users\\Admin\\Desktop\\mobile_dataset\\PD_mobile')"
   ]
  },
  {
   "cell_type": "code",
   "execution_count": null,
   "id": "39adf543",
   "metadata": {},
   "outputs": [],
   "source": [
    "write(r'C:\\Users\\Admin\\Desktop\\mobile_dataset_toserver')"
   ]
  }
 ],
 "metadata": {
  "kernelspec": {
   "display_name": "Python 3",
   "language": "python",
   "name": "python3"
  },
  "language_info": {
   "codemirror_mode": {
    "name": "ipython",
    "version": 3
   },
   "file_extension": ".py",
   "mimetype": "text/x-python",
   "name": "python",
   "nbconvert_exporter": "python",
   "pygments_lexer": "ipython3",
   "version": "3.8.8"
  }
 },
 "nbformat": 4,
 "nbformat_minor": 5
}
